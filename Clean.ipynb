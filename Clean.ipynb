{
  "nbformat": 4,
  "nbformat_minor": 0,
  "metadata": {
    "colab": {
      "provenance": [],
      "authorship_tag": "ABX9TyN9xyISKnU9+X1n8qSZ4sVM",
      "include_colab_link": true
    },
    "kernelspec": {
      "name": "python3",
      "display_name": "Python 3"
    },
    "language_info": {
      "name": "python"
    }
  },
  "cells": [
    {
      "cell_type": "markdown",
      "metadata": {
        "id": "view-in-github",
        "colab_type": "text"
      },
      "source": [
        "<a href=\"https://colab.research.google.com/github/diagomike/Amharic_cleaners/blob/master/Clean.ipynb\" target=\"_parent\"><img src=\"https://colab.research.google.com/assets/colab-badge.svg\" alt=\"Open In Colab\"/></a>"
      ]
    },
    {
      "cell_type": "code",
      "execution_count": null,
      "metadata": {
        "id": "N2XOpS27pnjE"
      },
      "outputs": [],
      "source": [
        "!git clone https://github.com/diagomike/Amharic_cleaners.git"
      ]
    },
    {
      "cell_type": "code",
      "source": [
        "!pip install -q git+https://github.com/bootphon/phonemizer.git unidecode\n",
        "!sudo apt-get install -q espeak-ng"
      ],
      "metadata": {
        "id": "pRGPxXAQqIMP"
      },
      "execution_count": null,
      "outputs": []
    },
    {
      "cell_type": "code",
      "source": [
        "import sys\n",
        "sys.path.append('/content/Amharic_cleaners')"
      ],
      "metadata": {
        "id": "bJ3_sFhypp22"
      },
      "execution_count": 13,
      "outputs": []
    },
    {
      "cell_type": "code",
      "source": [
        "from DataPreprocessor.cleaner import amharic_cleaners\n",
        "from DataPreprocessor.Amh_cleaner import Cleaner\n",
        "#load phonemizer\n",
        "import phonemizer\n",
        "global_phonemizer = phonemizer.backend.EspeakBackend(language='am', \n",
        "                                                     preserve_punctuation=True,  \n",
        "                                                     with_stress=True, \n",
        "                                                     language_switch='remove-flags',\n",
        "                                                     words_mismatch='ignore')\n",
        "\n",
        "def phoneme_prep(input_path:str,out_path):\n",
        "    # input_path /content/drive/MyDrive/ASR/item_list.txt'\n",
        "    # out_path /content/drive/MyDrive/ASR/item_IPA_list.txt'\n",
        "    item_list = open(input_path,'r',encoding='utf8').read()\n",
        "    item_new = []\n",
        "    item_texts = item_list.splitlines()\n",
        "    for text in item_texts:\n",
        "        writable = text.split('|')\n",
        "        writable[1] = global_phonemizer.phonemize([writable[1]])[0]\n",
        "        item_new.append('|'.join(writable))\n",
        "    open(out_path,'w',encoding='utf8').write('\\n'.join(item_new))\n",
        "\n",
        "def amh_prep(input_path:str,out_path):\n",
        "    # input_path /content/drive/MyDrive/ASR/item_list.txt'\n",
        "    # out_path /content/drive/MyDrive/ASR/item_IPA_list.txt'\n",
        "    item_list = open(input_path,'r',encoding='utf8').read()\n",
        "    item_new = []\n",
        "    item_texts = item_list.splitlines()\n",
        "    for text in item_texts:\n",
        "        writable = text.split('|')\n",
        "        writable[1] = amharic_cleaners(writable[1])\n",
        "        item_new.append('|'.join(writable))\n",
        "    open(out_path,'w',encoding='utf8').write('\\n'.join(item_new))\n",
        "\n",
        "def amh_prep(input_path:str,out_path):\n",
        "    # input_path /content/drive/MyDrive/ASR/item_list.txt'\n",
        "    # out_path /content/drive/MyDrive/ASR/item_IPA_list.txt'\n",
        "    item_list = open(input_path,'r',encoding='utf8').read()\n",
        "    item_new = []\n",
        "    item_texts = item_list.splitlines()\n",
        "    for text in item_texts:\n",
        "        writable = text.split('|')\n",
        "        writable[1] = amharic_cleaners(writable[1])\n",
        "        item_new.append('|'.join(writable))\n",
        "    open(out_path,'w',encoding='utf8').write('\\n'.join(item_new))\n",
        "\n",
        "def clean_phoneme_prep(input_path:str,out_path):\n",
        "    # input_path /content/drive/MyDrive/ASR/item_list.txt'\n",
        "    # out_path /content/drive/MyDrive/ASR/item_IPA_list.txt'\n",
        "    item_list = open(input_path,'r',encoding='utf8').read()\n",
        "    item_new = []\n",
        "    item_texts = item_list.splitlines()\n",
        "    for text in item_texts:\n",
        "        writable = text.split('|')\n",
        "        # Text Cleaned by cleaners then feed to phonemizer\n",
        "        writable[1] = global_phonemizer.phonemize([Cleaner(writable[1]).clean()])[0]\n",
        "        item_new.append('|'.join(writable))\n",
        "    open(out_path,'w',encoding='utf8').write('\\n'.join(item_new))"
      ],
      "metadata": {
        "id": "LPyVUsBOpw15"
      },
      "execution_count": 10,
      "outputs": []
    },
    {
      "cell_type": "code",
      "source": [
        "amh_prep('/content/Amharic_cleaners/format/train_list.txt','clean_train_list.txt')\n",
        "amh_prep('/content/Amharic_cleaners/format/val_list.txt','clean_val_list.txt')\n",
        "\n",
        "phoneme_prep('/content/Amharic_cleaners/format/train_list.txt','pho_train_list.txt')\n",
        "phoneme_prep('/content/Amharic_cleaners/format/val_list.txt','pho_val_list.txt')\n",
        "\n",
        "clean_phoneme_prep('/content/Amharic_cleaners/format/train_list.txt','pho_cl_train_list.txt')\n",
        "clean_phoneme_prep('/content/Amharic_cleaners/format/val_list.txt','pho_cl_val_list.txt')"
      ],
      "metadata": {
        "id": "-9M22JadqX8E"
      },
      "execution_count": 16,
      "outputs": []
    },
    {
      "cell_type": "code",
      "source": [],
      "metadata": {
        "id": "b-P_oaWdsfoF"
      },
      "execution_count": null,
      "outputs": []
    }
  ]
}